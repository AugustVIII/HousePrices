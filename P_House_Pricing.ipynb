{
 "cells": [
  {
   "cell_type": "markdown",
   "id": "d927e667",
   "metadata": {},
   "source": [
    "# House Pricing"
   ]
  },
  {
   "cell_type": "markdown",
   "id": "421a2a20",
   "metadata": {},
   "source": [
    "## Import Libraries and download dataset"
   ]
  },
  {
   "cell_type": "code",
   "execution_count": 1,
   "id": "5c10c4f8",
   "metadata": {},
   "outputs": [],
   "source": [
    "# Preprocessing\n",
    "import pandas as pd\n",
    "import numpy as np\n",
    "import pandas_profiling as pp\n",
    "import missingno as msno #library for work with NaN values\n",
    "from mlxtend.plotting import plot_decision_regions\n",
    "from sklearn.preprocessing import LabelEncoder, OneHotEncoder, StandardScaler, RobustScaler\n",
    "from sklearn.feature_selection import f_classif, mutual_info_classif"
   ]
  },
  {
   "cell_type": "code",
   "execution_count": 2,
   "id": "ec2f7685",
   "metadata": {},
   "outputs": [],
   "source": [
    "# Visualization\n",
    "import matplotlib.pyplot as plt\n",
    "import seaborn as sns\n",
    "\n",
    "plt.style.use('seaborn')\n",
    "plt.rcParams['figure.dpi'] = 90\n",
    "%matplotlib inline"
   ]
  },
  {
   "cell_type": "code",
   "execution_count": 3,
   "id": "3d9dfb65",
   "metadata": {},
   "outputs": [],
   "source": [
    "# Modelling\n",
    "from sklearn.model_selection import train_test_split\n",
    "from sklearn.model_selection import GridSearchCV\n",
    "from sklearn.model_selection import cross_val_score\n",
    "from sklearn.model_selection import RepeatedStratifiedKFold"
   ]
  },
  {
   "cell_type": "code",
   "execution_count": 4,
   "id": "b3679023",
   "metadata": {},
   "outputs": [],
   "source": [
    "# Classification\n",
    "from sklearn.linear_model import LogisticRegression\n",
    "from sklearn.neighbors import KNeighborsClassifier, RadiusNeighborsClassifier\n",
    "from sklearn.tree import DecisionTreeClassifier\n",
    "from sklearn.svm import SVC\n",
    "\n",
    "from sklearn.ensemble import GradientBoostingClassifier, AdaBoostClassifier \n",
    "from sklearn.ensemble import BaggingClassifier, RandomForestClassifier, StackingClassifier\n",
    "from lightgbm import LGBMClassifier\n",
    "\n",
    "from sklearn.metrics import confusion_matrix\n",
    "from sklearn.metrics import auc, roc_auc_score, roc_curve\n",
    "from sklearn.metrics import accuracy_score, precision_score, recall_score, f1_score"
   ]
  },
  {
   "cell_type": "code",
   "execution_count": 5,
   "id": "e274e30f",
   "metadata": {},
   "outputs": [],
   "source": [
    "# Regression\n",
    "from sklearn.linear_model import LinearRegression, Ridge, Lasso, HuberRegressor\n",
    "from sklearn.neighbors import KNeighborsRegressor, RadiusNeighborsRegressor\n",
    "from sklearn.tree import DecisionTreeRegressor\n",
    "from sklearn.svm import SVR\n",
    "from lightgbm import LGBMRegressor\n",
    "\n",
    "from sklearn.ensemble import GradientBoostingRegressor, AdaBoostRegressor \n",
    "from sklearn.ensemble import BaggingRegressor, RandomForestRegressor, StackingRegressor\n",
    "\n",
    "\n",
    "from sklearn.metrics import mean_squared_error, mean_absolute_error, mean_absolute_percentage_error, r2_score"
   ]
  },
  {
   "cell_type": "markdown",
   "id": "e583f737",
   "metadata": {},
   "source": [
    "## Import Functions"
   ]
  },
  {
   "cell_type": "code",
   "execution_count": 6,
   "id": "36c48325",
   "metadata": {},
   "outputs": [],
   "source": [
    "def get_num_info(col, title=None):\n",
    "    '''Function is called to plot feture distribution'''\n",
    "\n",
    "    title = title if title is not None else f\"Distribution for '{col}\"\n",
    "    fig, (ax1, ax2, ax3) = plt.subplots(1, 3, figsize=(15, 5),)\n",
    "    \n",
    "    sns.distplot(col.values, bins=20, ax=ax1)\n",
    "    \n",
    "    fig = sm.qqplot(col, fit=True, line='45', ax=ax2)\n",
    "    fig.suptitle(title, fontsize=20)\n",
    "    \n",
    "    ax3.boxplot(col.values,vert = False)\n",
    "\n",
    "    ax1.set_title('QQ-plot')\n",
    "    ax2.set_title('Distribution')\n",
    "    ax3.set_title('Boxplot')\n",
    "\n",
    "    plt.show()"
   ]
  },
  {
   "cell_type": "code",
   "execution_count": 7,
   "id": "765402c8",
   "metadata": {},
   "outputs": [],
   "source": [
    "def detect_outliers(data):\n",
    "    '''Function is called to detect outliers'''\n",
    "    q1, q3 = np.percentile(sorted(data), [25, 75])\n",
    "\n",
    "    IQR = q3 - q1\n",
    "\n",
    "    l_b = q1 - (1.5 * IQR) # lower bound\n",
    "    u_b = q3 + (1.5 * IQR) # upper bound\n",
    "    outl_count = len(data[data < l_b]) + len(data[data > u_b])\n",
    "\n",
    "    print(\n",
    "        f'Lower Bound: {round(l_b,3)}, Upper Bound {round(u_b,3)}, Outliers Count: {outl_count}')"
   ]
  },
  {
   "cell_type": "code",
   "execution_count": 8,
   "id": "74c76131",
   "metadata": {},
   "outputs": [],
   "source": [
    "def roc_curve_plot(y_test, y_probs):\n",
    "       \n",
    "    fpr, tpr, threshold = roc_curve(y_test, y_probs)\n",
    "    roc_auc = roc_auc_score(y_test, y_probs)\n",
    "\n",
    "    plt.figure()\n",
    "    plt.plot([0, 1], label='Baseline', linestyle='--')\n",
    "    plt.plot(fpr, tpr, label='Regression')\n",
    "    plt.title('Logistic Regression ROC AUC = %0.3f' % roc_auc)\n",
    "    plt.ylabel('True Positive Rate')\n",
    "    plt.xlabel('False Positive Rate')\n",
    "    plt.legend(loc='lower right')\n",
    "    plt.show()"
   ]
  },
  {
   "cell_type": "code",
   "execution_count": 9,
   "id": "a8470d2e",
   "metadata": {},
   "outputs": [],
   "source": [
    "def confusion_matrix_plot(y_test, y_pred, xlabels = ['True(P)', 'False(P)'], ylabels = ['True(A)', 'False(A)'], title='', cmap = None):\n",
    "    cf = confusion_matrix(y_test, y_pred)\n",
    "    sns.heatmap(cf, annot=True, annot_kws={\"size\": 20}, fmt='', cbar = False, xticklabels = xlabels, yticklabels= ylabels, cmap = cmap)\n",
    "    plt.title('Confusion matrix' + title)\n",
    "    plt.show()"
   ]
  },
  {
   "cell_type": "code",
   "execution_count": 10,
   "id": "d4d6478c",
   "metadata": {},
   "outputs": [],
   "source": [
    "def get_metrics_classification(y_test, y_pred):\n",
    "    print('Accuracy = %0.4f' % accuracy_score(y_test,y_pred) \n",
    "          + '\\nPrecision = %0.4f' % precision_score(y_test,y_pred)\n",
    "          + '\\nReacall = %0.4f' % recall_score(y_test,y_pred)\n",
    "          + '\\nF1_score = %0.4f' % f1_score(y_test,y_pred))"
   ]
  },
  {
   "cell_type": "code",
   "execution_count": 11,
   "id": "47b9a7bf",
   "metadata": {},
   "outputs": [],
   "source": [
    "def get_metrics_regression(y_test, y_pred):\n",
    "    print('Accuracy = %0.4f' % mean_squared_error(y_test,y_pred) \n",
    "          + '\\nPrecision = %0.4f' % mean_absolute_error(y_test,y_pred)\n",
    "          + '\\nReacall = %0.4f' % mean_absolute_percentage_error(y_test,y_pred)\n",
    "          + '\\nF1_score = %0.4f' % r2_score(y_test,y_pred))"
   ]
  },
  {
   "cell_type": "markdown",
   "id": "225dd9e4",
   "metadata": {},
   "source": [
    "## Downloading"
   ]
  },
  {
   "cell_type": "code",
   "execution_count": 12,
   "id": "c118630e",
   "metadata": {},
   "outputs": [],
   "source": [
    "# Download dataset\n",
    "df_train = pd.read_csv('/home/mark/Documents/GitHub/Datasets/HousePrices/train.csv')\n",
    "df_test = pd.read_csv('/home/mark/Documents/GitHub/Datasets/HousePrices/test.csv')\n",
    "df_ss = pd.read_csv('/home/mark/Documents/GitHub/Datasets/HousePrices/sample_submission.csv')"
   ]
  },
  {
   "cell_type": "code",
   "execution_count": 13,
   "id": "a48956f3",
   "metadata": {},
   "outputs": [],
   "source": [
    "# Merge train and test\n",
    "df = pd.concat([df_train, df_test], axis=0)"
   ]
  },
  {
   "cell_type": "code",
   "execution_count": 14,
   "id": "4a9639cc",
   "metadata": {},
   "outputs": [],
   "source": [
    "df['train'] = df['SalePrice'].apply(lambda x: 1 if x > 0 else 0)"
   ]
  },
  {
   "cell_type": "code",
   "execution_count": 15,
   "id": "f3efd46a",
   "metadata": {
    "scrolled": true
   },
   "outputs": [
    {
     "data": {
      "text/html": [
       "<div>\n",
       "<style scoped>\n",
       "    .dataframe tbody tr th:only-of-type {\n",
       "        vertical-align: middle;\n",
       "    }\n",
       "\n",
       "    .dataframe tbody tr th {\n",
       "        vertical-align: top;\n",
       "    }\n",
       "\n",
       "    .dataframe thead th {\n",
       "        text-align: right;\n",
       "    }\n",
       "</style>\n",
       "<table border=\"1\" class=\"dataframe\">\n",
       "  <thead>\n",
       "    <tr style=\"text-align: right;\">\n",
       "      <th></th>\n",
       "      <th>Id</th>\n",
       "      <th>MSSubClass</th>\n",
       "      <th>MSZoning</th>\n",
       "      <th>LotFrontage</th>\n",
       "      <th>LotArea</th>\n",
       "      <th>Street</th>\n",
       "      <th>Alley</th>\n",
       "      <th>LotShape</th>\n",
       "      <th>LandContour</th>\n",
       "      <th>Utilities</th>\n",
       "      <th>...</th>\n",
       "      <th>PoolQC</th>\n",
       "      <th>Fence</th>\n",
       "      <th>MiscFeature</th>\n",
       "      <th>MiscVal</th>\n",
       "      <th>MoSold</th>\n",
       "      <th>YrSold</th>\n",
       "      <th>SaleType</th>\n",
       "      <th>SaleCondition</th>\n",
       "      <th>SalePrice</th>\n",
       "      <th>train</th>\n",
       "    </tr>\n",
       "  </thead>\n",
       "  <tbody>\n",
       "    <tr>\n",
       "      <th>998</th>\n",
       "      <td>999</td>\n",
       "      <td>30</td>\n",
       "      <td>RM</td>\n",
       "      <td>60.0</td>\n",
       "      <td>9786</td>\n",
       "      <td>Pave</td>\n",
       "      <td>NaN</td>\n",
       "      <td>Reg</td>\n",
       "      <td>Lvl</td>\n",
       "      <td>AllPub</td>\n",
       "      <td>...</td>\n",
       "      <td>NaN</td>\n",
       "      <td>NaN</td>\n",
       "      <td>NaN</td>\n",
       "      <td>0</td>\n",
       "      <td>5</td>\n",
       "      <td>2006</td>\n",
       "      <td>WD</td>\n",
       "      <td>Normal</td>\n",
       "      <td>91000.0</td>\n",
       "      <td>1</td>\n",
       "    </tr>\n",
       "    <tr>\n",
       "      <th>613</th>\n",
       "      <td>614</td>\n",
       "      <td>20</td>\n",
       "      <td>RL</td>\n",
       "      <td>70.0</td>\n",
       "      <td>8402</td>\n",
       "      <td>Pave</td>\n",
       "      <td>NaN</td>\n",
       "      <td>Reg</td>\n",
       "      <td>Lvl</td>\n",
       "      <td>AllPub</td>\n",
       "      <td>...</td>\n",
       "      <td>NaN</td>\n",
       "      <td>NaN</td>\n",
       "      <td>NaN</td>\n",
       "      <td>0</td>\n",
       "      <td>12</td>\n",
       "      <td>2007</td>\n",
       "      <td>New</td>\n",
       "      <td>Partial</td>\n",
       "      <td>147000.0</td>\n",
       "      <td>1</td>\n",
       "    </tr>\n",
       "    <tr>\n",
       "      <th>706</th>\n",
       "      <td>707</td>\n",
       "      <td>20</td>\n",
       "      <td>RL</td>\n",
       "      <td>NaN</td>\n",
       "      <td>115149</td>\n",
       "      <td>Pave</td>\n",
       "      <td>NaN</td>\n",
       "      <td>IR2</td>\n",
       "      <td>Low</td>\n",
       "      <td>AllPub</td>\n",
       "      <td>...</td>\n",
       "      <td>NaN</td>\n",
       "      <td>NaN</td>\n",
       "      <td>NaN</td>\n",
       "      <td>0</td>\n",
       "      <td>6</td>\n",
       "      <td>2007</td>\n",
       "      <td>WD</td>\n",
       "      <td>Normal</td>\n",
       "      <td>302000.0</td>\n",
       "      <td>1</td>\n",
       "    </tr>\n",
       "    <tr>\n",
       "      <th>1065</th>\n",
       "      <td>2526</td>\n",
       "      <td>20</td>\n",
       "      <td>RL</td>\n",
       "      <td>45.0</td>\n",
       "      <td>8982</td>\n",
       "      <td>Pave</td>\n",
       "      <td>NaN</td>\n",
       "      <td>IR1</td>\n",
       "      <td>Lvl</td>\n",
       "      <td>AllPub</td>\n",
       "      <td>...</td>\n",
       "      <td>NaN</td>\n",
       "      <td>MnPrv</td>\n",
       "      <td>NaN</td>\n",
       "      <td>0</td>\n",
       "      <td>1</td>\n",
       "      <td>2007</td>\n",
       "      <td>WD</td>\n",
       "      <td>Normal</td>\n",
       "      <td>NaN</td>\n",
       "      <td>0</td>\n",
       "    </tr>\n",
       "    <tr>\n",
       "      <th>13</th>\n",
       "      <td>14</td>\n",
       "      <td>20</td>\n",
       "      <td>RL</td>\n",
       "      <td>91.0</td>\n",
       "      <td>10652</td>\n",
       "      <td>Pave</td>\n",
       "      <td>NaN</td>\n",
       "      <td>IR1</td>\n",
       "      <td>Lvl</td>\n",
       "      <td>AllPub</td>\n",
       "      <td>...</td>\n",
       "      <td>NaN</td>\n",
       "      <td>NaN</td>\n",
       "      <td>NaN</td>\n",
       "      <td>0</td>\n",
       "      <td>8</td>\n",
       "      <td>2007</td>\n",
       "      <td>New</td>\n",
       "      <td>Partial</td>\n",
       "      <td>279500.0</td>\n",
       "      <td>1</td>\n",
       "    </tr>\n",
       "    <tr>\n",
       "      <th>1395</th>\n",
       "      <td>1396</td>\n",
       "      <td>60</td>\n",
       "      <td>RL</td>\n",
       "      <td>88.0</td>\n",
       "      <td>12665</td>\n",
       "      <td>Pave</td>\n",
       "      <td>NaN</td>\n",
       "      <td>IR1</td>\n",
       "      <td>Lvl</td>\n",
       "      <td>AllPub</td>\n",
       "      <td>...</td>\n",
       "      <td>NaN</td>\n",
       "      <td>NaN</td>\n",
       "      <td>NaN</td>\n",
       "      <td>0</td>\n",
       "      <td>2</td>\n",
       "      <td>2007</td>\n",
       "      <td>WD</td>\n",
       "      <td>Normal</td>\n",
       "      <td>281213.0</td>\n",
       "      <td>1</td>\n",
       "    </tr>\n",
       "    <tr>\n",
       "      <th>411</th>\n",
       "      <td>412</td>\n",
       "      <td>190</td>\n",
       "      <td>RL</td>\n",
       "      <td>100.0</td>\n",
       "      <td>34650</td>\n",
       "      <td>Pave</td>\n",
       "      <td>NaN</td>\n",
       "      <td>Reg</td>\n",
       "      <td>Bnk</td>\n",
       "      <td>AllPub</td>\n",
       "      <td>...</td>\n",
       "      <td>NaN</td>\n",
       "      <td>NaN</td>\n",
       "      <td>NaN</td>\n",
       "      <td>0</td>\n",
       "      <td>1</td>\n",
       "      <td>2006</td>\n",
       "      <td>WD</td>\n",
       "      <td>Normal</td>\n",
       "      <td>145000.0</td>\n",
       "      <td>1</td>\n",
       "    </tr>\n",
       "    <tr>\n",
       "      <th>568</th>\n",
       "      <td>569</td>\n",
       "      <td>50</td>\n",
       "      <td>RL</td>\n",
       "      <td>79.0</td>\n",
       "      <td>12327</td>\n",
       "      <td>Pave</td>\n",
       "      <td>NaN</td>\n",
       "      <td>IR1</td>\n",
       "      <td>Low</td>\n",
       "      <td>AllPub</td>\n",
       "      <td>...</td>\n",
       "      <td>NaN</td>\n",
       "      <td>NaN</td>\n",
       "      <td>NaN</td>\n",
       "      <td>0</td>\n",
       "      <td>9</td>\n",
       "      <td>2009</td>\n",
       "      <td>WD</td>\n",
       "      <td>Normal</td>\n",
       "      <td>316600.0</td>\n",
       "      <td>1</td>\n",
       "    </tr>\n",
       "    <tr>\n",
       "      <th>1384</th>\n",
       "      <td>1385</td>\n",
       "      <td>50</td>\n",
       "      <td>RL</td>\n",
       "      <td>60.0</td>\n",
       "      <td>9060</td>\n",
       "      <td>Pave</td>\n",
       "      <td>NaN</td>\n",
       "      <td>Reg</td>\n",
       "      <td>Lvl</td>\n",
       "      <td>AllPub</td>\n",
       "      <td>...</td>\n",
       "      <td>NaN</td>\n",
       "      <td>MnPrv</td>\n",
       "      <td>NaN</td>\n",
       "      <td>0</td>\n",
       "      <td>10</td>\n",
       "      <td>2009</td>\n",
       "      <td>WD</td>\n",
       "      <td>Normal</td>\n",
       "      <td>105000.0</td>\n",
       "      <td>1</td>\n",
       "    </tr>\n",
       "    <tr>\n",
       "      <th>1323</th>\n",
       "      <td>1324</td>\n",
       "      <td>30</td>\n",
       "      <td>RL</td>\n",
       "      <td>50.0</td>\n",
       "      <td>5330</td>\n",
       "      <td>Pave</td>\n",
       "      <td>NaN</td>\n",
       "      <td>Reg</td>\n",
       "      <td>HLS</td>\n",
       "      <td>AllPub</td>\n",
       "      <td>...</td>\n",
       "      <td>NaN</td>\n",
       "      <td>NaN</td>\n",
       "      <td>NaN</td>\n",
       "      <td>0</td>\n",
       "      <td>12</td>\n",
       "      <td>2009</td>\n",
       "      <td>WD</td>\n",
       "      <td>Normal</td>\n",
       "      <td>82500.0</td>\n",
       "      <td>1</td>\n",
       "    </tr>\n",
       "  </tbody>\n",
       "</table>\n",
       "<p>10 rows × 82 columns</p>\n",
       "</div>"
      ],
      "text/plain": [
       "        Id  MSSubClass MSZoning  LotFrontage  LotArea Street Alley LotShape  \\\n",
       "998    999          30       RM         60.0     9786   Pave   NaN      Reg   \n",
       "613    614          20       RL         70.0     8402   Pave   NaN      Reg   \n",
       "706    707          20       RL          NaN   115149   Pave   NaN      IR2   \n",
       "1065  2526          20       RL         45.0     8982   Pave   NaN      IR1   \n",
       "13      14          20       RL         91.0    10652   Pave   NaN      IR1   \n",
       "1395  1396          60       RL         88.0    12665   Pave   NaN      IR1   \n",
       "411    412         190       RL        100.0    34650   Pave   NaN      Reg   \n",
       "568    569          50       RL         79.0    12327   Pave   NaN      IR1   \n",
       "1384  1385          50       RL         60.0     9060   Pave   NaN      Reg   \n",
       "1323  1324          30       RL         50.0     5330   Pave   NaN      Reg   \n",
       "\n",
       "     LandContour Utilities  ... PoolQC  Fence MiscFeature MiscVal MoSold  \\\n",
       "998          Lvl    AllPub  ...    NaN    NaN         NaN       0      5   \n",
       "613          Lvl    AllPub  ...    NaN    NaN         NaN       0     12   \n",
       "706          Low    AllPub  ...    NaN    NaN         NaN       0      6   \n",
       "1065         Lvl    AllPub  ...    NaN  MnPrv         NaN       0      1   \n",
       "13           Lvl    AllPub  ...    NaN    NaN         NaN       0      8   \n",
       "1395         Lvl    AllPub  ...    NaN    NaN         NaN       0      2   \n",
       "411          Bnk    AllPub  ...    NaN    NaN         NaN       0      1   \n",
       "568          Low    AllPub  ...    NaN    NaN         NaN       0      9   \n",
       "1384         Lvl    AllPub  ...    NaN  MnPrv         NaN       0     10   \n",
       "1323         HLS    AllPub  ...    NaN    NaN         NaN       0     12   \n",
       "\n",
       "     YrSold SaleType  SaleCondition  SalePrice  train  \n",
       "998    2006       WD         Normal    91000.0      1  \n",
       "613    2007      New        Partial   147000.0      1  \n",
       "706    2007       WD         Normal   302000.0      1  \n",
       "1065   2007       WD         Normal        NaN      0  \n",
       "13     2007      New        Partial   279500.0      1  \n",
       "1395   2007       WD         Normal   281213.0      1  \n",
       "411    2006       WD         Normal   145000.0      1  \n",
       "568    2009       WD         Normal   316600.0      1  \n",
       "1384   2009       WD         Normal   105000.0      1  \n",
       "1323   2009       WD         Normal    82500.0      1  \n",
       "\n",
       "[10 rows x 82 columns]"
      ]
     },
     "execution_count": 15,
     "metadata": {},
     "output_type": "execute_result"
    }
   ],
   "source": [
    "df.sample(10)"
   ]
  },
  {
   "cell_type": "markdown",
   "id": "79a5e5af",
   "metadata": {},
   "source": [
    "## Profiling"
   ]
  },
  {
   "cell_type": "code",
   "execution_count": 16,
   "id": "1b4495f9",
   "metadata": {},
   "outputs": [],
   "source": [
    "df_profile = df.profile_report()"
   ]
  },
  {
   "cell_type": "markdown",
   "id": "c5c6a113",
   "metadata": {},
   "source": [
    "**[Profile Report - Link](./result1.html)**"
   ]
  },
  {
   "cell_type": "markdown",
   "id": "f8a2f268",
   "metadata": {},
   "source": [
    "## Dataset preproration"
   ]
  },
  {
   "cell_type": "markdown",
   "id": "fec0be7e",
   "metadata": {},
   "source": [
    "### Work with NaN"
   ]
  },
  {
   "cell_type": "code",
   "execution_count": 17,
   "id": "26e74a7d",
   "metadata": {},
   "outputs": [
    {
     "data": {
      "text/plain": [
       "PoolQC          2909\n",
       "MiscFeature     2814\n",
       "Alley           2721\n",
       "Fence           2348\n",
       "SalePrice       1459\n",
       "FireplaceQu     1420\n",
       "LotFrontage      486\n",
       "GarageYrBlt      159\n",
       "GarageQual       159\n",
       "GarageFinish     159\n",
       "GarageCond       159\n",
       "GarageType       157\n",
       "BsmtCond          82\n",
       "BsmtExposure      82\n",
       "BsmtQual          81\n",
       "BsmtFinType2      80\n",
       "BsmtFinType1      79\n",
       "MasVnrType        24\n",
       "MasVnrArea        23\n",
       "MSZoning           4\n",
       "Functional         2\n",
       "BsmtFullBath       2\n",
       "Utilities          2\n",
       "BsmtHalfBath       2\n",
       "BsmtFinSF1         1\n",
       "GarageCars         1\n",
       "GarageArea         1\n",
       "Electrical         1\n",
       "TotalBsmtSF        1\n",
       "Exterior2nd        1\n",
       "Exterior1st        1\n",
       "BsmtUnfSF          1\n",
       "SaleType           1\n",
       "KitchenQual        1\n",
       "BsmtFinSF2         1\n",
       "dtype: int64"
      ]
     },
     "execution_count": 17,
     "metadata": {},
     "output_type": "execute_result"
    }
   ],
   "source": [
    "# Посмотрим на признаки в которых есть пропуски\n",
    "miss_features = df.isnull().sum().sort_values(ascending=False)[:35]\n",
    "miss_features"
   ]
  },
  {
   "cell_type": "code",
   "execution_count": 18,
   "id": "e7ea410e",
   "metadata": {},
   "outputs": [
    {
     "data": {
      "image/png": "[encoded data removed]",
      "text/plain": [
       "<Figure size 720x360 with 1 Axes>"
      ]
     },
     "metadata": {
      "needs_background": "light"
     },
     "output_type": "display_data"
    }
   ],
   "source": [
    "f, ax = plt.subplots(figsize=(10, 5))\n",
    "plt.xticks(rotation='90')\n",
    "sns.barplot(x=miss_features.index, y=miss_features)\n",
    "plt.title('missing', fontsize=15)\n",
    "plt.xlabel('features', fontsize=15)\n",
    "plt.ylabel('count', fontsize=15)\n",
    "plt.show()"
   ]
  },
  {
   "cell_type": "code",
   "execution_count": 19,
   "id": "3f622ac0",
   "metadata": {},
   "outputs": [],
   "source": [
    "# specific value replacements\n",
    "# df[\"PoolQC\"] = df[\"PoolQC\"].fillna(\"None\")\n",
    "# df[\"MiscFeature\"] = df[\"MiscFeature\"].fillna(\"None\")\n",
    "# df[\"Alley\"] = df[\"Alley\"].fillna(\"None\")\n",
    "# df[\"Fence\"] = df[\"Fence\"].fillna(\"None\")\n",
    "# df[\"FireplaceQu\"] = df[\"FireplaceQu\"].fillna(\"None\")\n",
    "\n",
    "for col in ('GarageType', 'GarageFinish', 'GarageQual', 'GarageCond'):\n",
    "    df[col] = df[col].fillna('None')\n",
    "\n",
    "for col in ('GarageYrBlt', 'GarageArea', 'GarageCars'):\n",
    "    df[col] = df[col].fillna(0)\n",
    "    \n",
    "for col in ('BsmtFinSF1', 'BsmtFinSF2', 'BsmtUnfSF','TotalBsmtSF', 'BsmtFullBath', 'BsmtHalfBath'):\n",
    "    df[col] = df[col].fillna(0)\n",
    "    \n",
    "for col in ('BsmtQual', 'BsmtCond', 'BsmtExposure', 'BsmtFinType1', 'BsmtFinType2'):\n",
    "    df[col] = df[col].fillna('None')\n",
    "\n",
    "df[\"MasVnrType\"] = df[\"MasVnrType\"].fillna(\"None\")\n",
    "df[\"MasVnrArea\"] = df[\"MasVnrArea\"].fillna(0)\n",
    "df[\"Functional\"] = df[\"Functional\"].fillna(\"Typ\")\n",
    "df['MSSubClass'] = df['MSSubClass'].fillna(\"None\")\n",
    "\n",
    "# mean value replacements\n",
    "df['MSZoning'] = df['MSZoning'].fillna(df['MSZoning'].mode()[0])\n",
    "df['Electrical'] = df['Electrical'].fillna(df['Electrical'].mode()[0])\n",
    "df['KitchenQual'] = df['KitchenQual'].fillna(df['KitchenQual'].mode()[0])\n",
    "df['Exterior1st'] = df['Exterior1st'].fillna(df['Exterior1st'].mode()[0])\n",
    "df['Exterior2nd'] = df['Exterior2nd'].fillna(df['Exterior2nd'].mode()[0])\n",
    "df['SaleType'] = df['SaleType'].fillna(df['SaleType'].mode()[0])\n",
    "\n",
    "df[\"LotFrontage\"] = df.groupby(\"Neighborhood\")[\"LotFrontage\"].transform(\n",
    "    lambda x: x.fillna(x.median()))"
   ]
  },
  {
   "cell_type": "markdown",
   "id": "5793ebd8",
   "metadata": {},
   "source": [
    "### Set Type Vars "
   ]
  },
  {
   "cell_type": "code",
   "execution_count": 20,
   "id": "53aa74bc",
   "metadata": {},
   "outputs": [],
   "source": [
    "# nume\n",
    "num_cols = set(df._get_numeric_data().columns)"
   ]
  },
  {
   "cell_type": "code",
   "execution_count": 21,
   "id": "0319a4c8",
   "metadata": {},
   "outputs": [],
   "source": [
    "# other vars\n",
    "other_cols = set(df.columns) - set(num_cols)"
   ]
  },
  {
   "cell_type": "code",
   "execution_count": 22,
   "id": "ed0ae4bb",
   "metadata": {},
   "outputs": [],
   "source": [
    "# ranking vars\n",
    "ranking_vars = [\n",
    "    'OverallCond', 'ExterQual', 'ExterCond', 'BsmtQual', 'BsmtCond',\n",
    "    'BsmtExposure', 'BsmtFinType1', 'BsmtFinType2', 'HeatingQC', 'KitchenQual',\n",
    "    'GarageQual', 'GarageCond','Street',\n",
    "    'LandSlope', 'Functional', 'GarageFinish', 'MoSold', 'YrSold', 'PavedDrive', \n",
    "    'CentralAir', 'LotShape', 'MSSubClass']\n",
    "\n",
    "# num vars\n",
    "num_vars = [\n",
    "    'LotFrontage', 'LotArea', 'MasVnrArea', 'BsmtFinSF1', 'BsmtFinSF2', 'BsmtUnfSF',\n",
    "    'TotalBsmtSF', '1stFlrSF', '2ndFlrSF', 'LowQualFinSF', 'GrLivArea', \n",
    "    'TotRmsAbvGrd', 'BedroomAbvGr', 'KitchenAbvGr',\n",
    "    'Fireplaces', 'GarageCars', 'GarageArea', 'WoodDeckSF', 'OpenPorchSF', 'EnclosedPorch',\n",
    "    '3SsnPorch', 'ScreenPorch', 'PoolArea', 'MiscVal', 'GarageYrBlt', 'YearBuilt', 'YearRemodAdd',\n",
    "    'OverallQual']\n",
    "\n",
    "# nominal vars\n",
    "nominal_vars = [\n",
    "    'MSZoning', 'LandContour',\n",
    "    'LotConfig', 'Neighborhood', 'Condition1', 'Condition2', 'BldgType',\n",
    "    'HouseStyle', 'RoofStyle', 'RoofMatl', 'Exterior1st', \n",
    "    'Exterior2nd', 'MasVnrType', 'Foundation', 'Heating', 'Electrical', \n",
    "    'GarageType', 'SaleType', 'SaleCondition']"
   ]
  },
  {
   "cell_type": "markdown",
   "id": "010041e5",
   "metadata": {},
   "source": [
    "### Work with Nums"
   ]
  },
  {
   "cell_type": "code",
   "execution_count": 49,
   "id": "c7028740",
   "metadata": {},
   "outputs": [
    {
     "ename": "KeyError",
     "evalue": "\"['BsmtHalfBath', 'FullBath', 'HalfBath', 'BsmtFullBath'] not in index\"",
     "output_type": "error",
     "traceback": [
      "\u001b[0;31m---------------------------------------------------------------------------\u001b[0m",
      "\u001b[0;31mKeyError\u001b[0m                                  Traceback (most recent call last)",
      "\u001b[0;32m/tmp/ipykernel_15330/3104915950.py\u001b[0m in \u001b[0;36m<module>\u001b[0;34m\u001b[0m\n\u001b[1;32m      1\u001b[0m \u001b[0mplt\u001b[0m\u001b[0;34m.\u001b[0m\u001b[0mfigure\u001b[0m\u001b[0;34m(\u001b[0m\u001b[0mfigsize\u001b[0m\u001b[0;34m=\u001b[0m\u001b[0;34m(\u001b[0m\u001b[0;36m50\u001b[0m\u001b[0;34m,\u001b[0m\u001b[0;36m20\u001b[0m\u001b[0;34m)\u001b[0m\u001b[0;34m,\u001b[0m \u001b[0mdpi\u001b[0m\u001b[0;34m=\u001b[0m\u001b[0;36m150\u001b[0m\u001b[0;34m)\u001b[0m\u001b[0;34m\u001b[0m\u001b[0;34m\u001b[0m\u001b[0m\n\u001b[0;32m----> 2\u001b[0;31m sns.heatmap(df[num_cols].corr().abs(),\n\u001b[0m\u001b[1;32m      3\u001b[0m                   \u001b[0mcbar\u001b[0m\u001b[0;34m=\u001b[0m\u001b[0;32mTrue\u001b[0m\u001b[0;34m,\u001b[0m\u001b[0;34m\u001b[0m\u001b[0;34m\u001b[0m\u001b[0m\n\u001b[1;32m      4\u001b[0m                   annot=True, vmin=0, vmax=1, fmt='.1g')\n",
      "\u001b[0;32m~/anaconda3/lib/python3.8/site-packages/pandas/core/frame.py\u001b[0m in \u001b[0;36m__getitem__\u001b[0;34m(self, key)\u001b[0m\n\u001b[1;32m   3459\u001b[0m             \u001b[0;32mif\u001b[0m \u001b[0mis_iterator\u001b[0m\u001b[0;34m(\u001b[0m\u001b[0mkey\u001b[0m\u001b[0;34m)\u001b[0m\u001b[0;34m:\u001b[0m\u001b[0;34m\u001b[0m\u001b[0;34m\u001b[0m\u001b[0m\n\u001b[1;32m   3460\u001b[0m                 \u001b[0mkey\u001b[0m \u001b[0;34m=\u001b[0m \u001b[0mlist\u001b[0m\u001b[0;34m(\u001b[0m\u001b[0mkey\u001b[0m\u001b[0;34m)\u001b[0m\u001b[0;34m\u001b[0m\u001b[0;34m\u001b[0m\u001b[0m\n\u001b[0;32m-> 3461\u001b[0;31m             \u001b[0mindexer\u001b[0m \u001b[0;34m=\u001b[0m \u001b[0mself\u001b[0m\u001b[0;34m.\u001b[0m\u001b[0mloc\u001b[0m\u001b[0;34m.\u001b[0m\u001b[0m_get_listlike_indexer\u001b[0m\u001b[0;34m(\u001b[0m\u001b[0mkey\u001b[0m\u001b[0;34m,\u001b[0m \u001b[0maxis\u001b[0m\u001b[0;34m=\u001b[0m\u001b[0;36m1\u001b[0m\u001b[0;34m)\u001b[0m\u001b[0;34m[\u001b[0m\u001b[0;36m1\u001b[0m\u001b[0;34m]\u001b[0m\u001b[0;34m\u001b[0m\u001b[0;34m\u001b[0m\u001b[0m\n\u001b[0m\u001b[1;32m   3462\u001b[0m \u001b[0;34m\u001b[0m\u001b[0m\n\u001b[1;32m   3463\u001b[0m         \u001b[0;31m# take() does not accept boolean indexers\u001b[0m\u001b[0;34m\u001b[0m\u001b[0;34m\u001b[0m\u001b[0;34m\u001b[0m\u001b[0m\n",
      "\u001b[0;32m~/anaconda3/lib/python3.8/site-packages/pandas/core/indexing.py\u001b[0m in \u001b[0;36m_get_listlike_indexer\u001b[0;34m(self, key, axis)\u001b[0m\n\u001b[1;32m   1312\u001b[0m             \u001b[0mkeyarr\u001b[0m\u001b[0;34m,\u001b[0m \u001b[0mindexer\u001b[0m\u001b[0;34m,\u001b[0m \u001b[0mnew_indexer\u001b[0m \u001b[0;34m=\u001b[0m \u001b[0max\u001b[0m\u001b[0;34m.\u001b[0m\u001b[0m_reindex_non_unique\u001b[0m\u001b[0;34m(\u001b[0m\u001b[0mkeyarr\u001b[0m\u001b[0;34m)\u001b[0m\u001b[0;34m\u001b[0m\u001b[0;34m\u001b[0m\u001b[0m\n\u001b[1;32m   1313\u001b[0m \u001b[0;34m\u001b[0m\u001b[0m\n\u001b[0;32m-> 1314\u001b[0;31m         \u001b[0mself\u001b[0m\u001b[0;34m.\u001b[0m\u001b[0m_validate_read_indexer\u001b[0m\u001b[0;34m(\u001b[0m\u001b[0mkeyarr\u001b[0m\u001b[0;34m,\u001b[0m \u001b[0mindexer\u001b[0m\u001b[0;34m,\u001b[0m \u001b[0maxis\u001b[0m\u001b[0;34m)\u001b[0m\u001b[0;34m\u001b[0m\u001b[0;34m\u001b[0m\u001b[0m\n\u001b[0m\u001b[1;32m   1315\u001b[0m \u001b[0;34m\u001b[0m\u001b[0m\n\u001b[1;32m   1316\u001b[0m         if needs_i8_conversion(ax.dtype) or isinstance(\n",
      "\u001b[0;32m~/anaconda3/lib/python3.8/site-packages/pandas/core/indexing.py\u001b[0m in \u001b[0;36m_validate_read_indexer\u001b[0;34m(self, key, indexer, axis)\u001b[0m\n\u001b[1;32m   1375\u001b[0m \u001b[0;34m\u001b[0m\u001b[0m\n\u001b[1;32m   1376\u001b[0m             \u001b[0mnot_found\u001b[0m \u001b[0;34m=\u001b[0m \u001b[0mlist\u001b[0m\u001b[0;34m(\u001b[0m\u001b[0mensure_index\u001b[0m\u001b[0;34m(\u001b[0m\u001b[0mkey\u001b[0m\u001b[0;34m)\u001b[0m\u001b[0;34m[\u001b[0m\u001b[0mmissing_mask\u001b[0m\u001b[0;34m.\u001b[0m\u001b[0mnonzero\u001b[0m\u001b[0;34m(\u001b[0m\u001b[0;34m)\u001b[0m\u001b[0;34m[\u001b[0m\u001b[0;36m0\u001b[0m\u001b[0;34m]\u001b[0m\u001b[0;34m]\u001b[0m\u001b[0;34m.\u001b[0m\u001b[0munique\u001b[0m\u001b[0;34m(\u001b[0m\u001b[0;34m)\u001b[0m\u001b[0;34m)\u001b[0m\u001b[0;34m\u001b[0m\u001b[0;34m\u001b[0m\u001b[0m\n\u001b[0;32m-> 1377\u001b[0;31m             \u001b[0;32mraise\u001b[0m \u001b[0mKeyError\u001b[0m\u001b[0;34m(\u001b[0m\u001b[0;34mf\"{not_found} not in index\"\u001b[0m\u001b[0;34m)\u001b[0m\u001b[0;34m\u001b[0m\u001b[0;34m\u001b[0m\u001b[0m\n\u001b[0m\u001b[1;32m   1378\u001b[0m \u001b[0;34m\u001b[0m\u001b[0m\n\u001b[1;32m   1379\u001b[0m \u001b[0;34m\u001b[0m\u001b[0m\n",
      "\u001b[0;31mKeyError\u001b[0m: \"['BsmtHalfBath', 'FullBath', 'HalfBath', 'BsmtFullBath'] not in index\""
     ]
    },
    {
     "data": {
      "text/plain": [
       "<Figure size 7500x3000 with 0 Axes>"
      ]
     },
     "metadata": {},
     "output_type": "display_data"
    }
   ],
   "source": [
    "plt.figure(figsize=(50,20), dpi=150)\n",
    "sns.heatmap(df[num_cols].corr().abs(),\n",
    "                  cbar=True,\n",
    "                  annot=True, vmin=0, vmax=1, fmt='.1g')"
   ]
  },
  {
   "cell_type": "code",
   "execution_count": 23,
   "id": "a529dd3a",
   "metadata": {},
   "outputs": [],
   "source": [
    "# for col in num_cols:\n",
    "#     get_num_info(df[col], title=col)\n",
    "#     detect_outliers(df[col])"
   ]
  },
  {
   "cell_type": "markdown",
   "id": "a1010331",
   "metadata": {},
   "source": [
    "## FeatureEngeneering"
   ]
  },
  {
   "cell_type": "code",
   "execution_count": 24,
   "id": "4bb1e8c8",
   "metadata": {},
   "outputs": [],
   "source": [
    "# df['HasMasVnr'] = df.MasVnrArea.apply(lambda x: 1 if x else 0)\n",
    "# df['Has2ndFlrSF'] = df['2ndFlrSF'].apply(lambda x: 1 if x else 0)\n",
    "# df['HasGarageArea'] = df['GarageArea'].apply(lambda x: 1 if x else 0)\n",
    "# df['HasWoodDeckSF'] = df['WoodDeckSF'].apply(lambda x: 1 if x else 0)\n",
    "# df['HasOpenPorchSF'] = df['OpenPorchSF'].apply(lambda x: 1 if x else 0)\n",
    "# df['HasEnclosedPorch'] = df['EnclosedPorch'].apply(lambda x: 1 if x else 0)\n",
    "# df['Has3SsnPorch'] = df['3SsnPorch'].apply(lambda x: 1 if x else 0)\n",
    "# df['HasScreenPorch'] = df['ScreenPorch'].apply(lambda x: 1 if x else 0)\n",
    "# df['HasPoolArea'] = df['PoolArea'].apply(lambda x: 1 if x else 0)\n",
    "# df['HasMiscVal'] = df['MiscVal'].apply(lambda x: 1 if x else 0)\n",
    "\n",
    "df['TotalBath'] = df['BsmtFullBath'] + df['BsmtHalfBath'] * 0.5 + df['FullBath'] + df['HalfBath'] * 0.5\n",
    "df['TotalSF'] = df['TotalBsmtSF'] + df['1stFlrSF'] + df['2ndFlrSF']\n",
    "df['TotalBsmtSF'] = df['TotalBsmtSF'] + df['BsmtFinSF1'] + df['BsmtFinSF2']"
   ]
  },
  {
   "cell_type": "markdown",
   "id": "47653396",
   "metadata": {},
   "source": [
    "### Drop values"
   ]
  },
  {
   "cell_type": "code",
   "execution_count": 25,
   "id": "62587f26",
   "metadata": {},
   "outputs": [],
   "source": [
    "# because miss more than 50%\n",
    "df.drop(['PoolQC','MiscFeature','Alley','Fence','FireplaceQu'], axis=1, inplace=True)\n",
    "\n",
    "# because almost all values = \n",
    "df.drop(['Utilities'], axis=1, inplace=True)\n",
    "\n",
    "# drop bath\n",
    "df.drop(['BsmtFullBath', 'BsmtHalfBath', 'FullBath', 'HalfBath'], axis=1, inplace=True)"
   ]
  },
  {
   "cell_type": "code",
   "execution_count": 26,
   "id": "4a88ad21",
   "metadata": {},
   "outputs": [
    {
     "data": {
      "text/plain": [
       "SalePrice        1459\n",
       "Id                  0\n",
       "KitchenAbvGr        0\n",
       "GarageFinish        0\n",
       "GarageYrBlt         0\n",
       "GarageType          0\n",
       "Fireplaces          0\n",
       "Functional          0\n",
       "TotRmsAbvGrd        0\n",
       "KitchenQual         0\n",
       "BedroomAbvGr        0\n",
       "GarageArea          0\n",
       "GrLivArea           0\n",
       "LowQualFinSF        0\n",
       "2ndFlrSF            0\n",
       "1stFlrSF            0\n",
       "Electrical          0\n",
       "CentralAir          0\n",
       "GarageCars          0\n",
       "GarageQual          0\n",
       "MSSubClass          0\n",
       "MiscVal             0\n",
       "TotalBath           0\n",
       "train               0\n",
       "SaleCondition       0\n",
       "SaleType            0\n",
       "YrSold              0\n",
       "MoSold              0\n",
       "PoolArea            0\n",
       "GarageCond          0\n",
       "dtype: int64"
      ]
     },
     "execution_count": 26,
     "metadata": {},
     "output_type": "execute_result"
    }
   ],
   "source": [
    "# Посмотрим на признаки в которых есть пропуски again\n",
    "miss_features_2 = df.isnull().sum().sort_values(ascending=False)[:30]\n",
    "miss_features_2"
   ]
  },
  {
   "cell_type": "markdown",
   "id": "1e46722f",
   "metadata": {},
   "source": [
    "### Выброс"
   ]
  },
  {
   "cell_type": "code",
   "execution_count": 27,
   "id": "7744b139",
   "metadata": {},
   "outputs": [
    {
     "data": {
      "image/png": "[encoded data removed]",
      "text/plain": [
       "<Figure size 432x288 with 1 Axes>"
      ]
     },
     "metadata": {
      "needs_background": "light"
     },
     "output_type": "display_data"
    }
   ],
   "source": [
    "fig, ax = plt.subplots()\n",
    "ax.scatter(x = df['GrLivArea'], y = df['SalePrice'])\n",
    "plt.ylabel('SalePrice', fontsize=13)\n",
    "plt.xlabel('GrLivArea', fontsize=13)\n",
    "plt.show()"
   ]
  },
  {
   "cell_type": "code",
   "execution_count": 28,
   "id": "15306d95",
   "metadata": {},
   "outputs": [
    {
     "data": {
      "image/png": "[encoded data removed]",
      "text/plain": [
       "<Figure size 432x288 with 1 Axes>"
      ]
     },
     "metadata": {
      "needs_background": "light"
     },
     "output_type": "display_data"
    }
   ],
   "source": [
    "#Deleting outliers\n",
    "df = df.drop(df[(df['GrLivArea']>4000) & (df['SalePrice']<300000)].index)\n",
    "\n",
    "#Check the graphic again\n",
    "fig, ax = plt.subplots()\n",
    "ax.scatter(df['GrLivArea'], df['SalePrice'])\n",
    "plt.ylabel('SalePrice', fontsize=13)\n",
    "plt.xlabel('GrLivArea', fontsize=13)\n",
    "plt.show()"
   ]
  },
  {
   "cell_type": "markdown",
   "id": "1bdee324",
   "metadata": {},
   "source": [
    "### Logarifm"
   ]
  },
  {
   "cell_type": "code",
   "execution_count": 29,
   "id": "10fdde99",
   "metadata": {},
   "outputs": [
    {
     "name": "stderr",
     "output_type": "stream",
     "text": [
      "/tmp/ipykernel_15330/874690988.py:1: SettingWithCopyWarning: \n",
      "A value is trying to be set on a copy of a slice from a DataFrame.\n",
      "Try using .loc[row_indexer,col_indexer] = value instead\n",
      "\n",
      "See the caveats in the documentation: https://pandas.pydata.org/pandas-docs/stable/user_guide/indexing.html#returning-a-view-versus-a-copy\n",
      "  df['SalePrice'] = np.log1p(df['SalePrice'])\n"
     ]
    }
   ],
   "source": [
    "df['SalePrice'] = np.log1p(df['SalePrice'])"
   ]
  },
  {
   "cell_type": "code",
   "execution_count": 30,
   "id": "faf3039c",
   "metadata": {},
   "outputs": [],
   "source": [
    "num_cols2 = set(df._get_numeric_data().columns)"
   ]
  },
  {
   "cell_type": "code",
   "execution_count": 31,
   "id": "2b42d00c",
   "metadata": {},
   "outputs": [
    {
     "data": {
      "text/plain": [
       "{'1stFlrSF',\n",
       " '2ndFlrSF',\n",
       " '3SsnPorch',\n",
       " 'BedroomAbvGr',\n",
       " 'BsmtFinSF1',\n",
       " 'BsmtFinSF2',\n",
       " 'BsmtUnfSF',\n",
       " 'EnclosedPorch',\n",
       " 'Fireplaces',\n",
       " 'GarageArea',\n",
       " 'GarageCars',\n",
       " 'GarageYrBlt',\n",
       " 'GrLivArea',\n",
       " 'Id',\n",
       " 'KitchenAbvGr',\n",
       " 'LotArea',\n",
       " 'LotFrontage',\n",
       " 'LowQualFinSF',\n",
       " 'MSSubClass',\n",
       " 'MasVnrArea',\n",
       " 'MiscVal',\n",
       " 'MoSold',\n",
       " 'OpenPorchSF',\n",
       " 'OverallCond',\n",
       " 'OverallQual',\n",
       " 'PoolArea',\n",
       " 'SalePrice',\n",
       " 'ScreenPorch',\n",
       " 'TotRmsAbvGrd',\n",
       " 'TotalBath',\n",
       " 'TotalBsmtSF',\n",
       " 'TotalSF',\n",
       " 'WoodDeckSF',\n",
       " 'YearBuilt',\n",
       " 'YearRemodAdd',\n",
       " 'YrSold',\n",
       " 'train'}"
      ]
     },
     "execution_count": 31,
     "metadata": {},
     "output_type": "execute_result"
    }
   ],
   "source": [
    "num_cols2"
   ]
  },
  {
   "cell_type": "code",
   "execution_count": 32,
   "id": "c8e66a7c",
   "metadata": {},
   "outputs": [
    {
     "name": "stderr",
     "output_type": "stream",
     "text": [
      "/home/mark/anaconda3/lib/python3.8/site-packages/pandas/core/frame.py:3636: SettingWithCopyWarning: \n",
      "A value is trying to be set on a copy of a slice from a DataFrame.\n",
      "Try using .loc[row_indexer,col_indexer] = value instead\n",
      "\n",
      "See the caveats in the documentation: https://pandas.pydata.org/pandas-docs/stable/user_guide/indexing.html#returning-a-view-versus-a-copy\n",
      "  self[k1] = value[k2]\n"
     ]
    }
   ],
   "source": [
    "from scipy import stats\n",
    "from scipy.stats import skew\n",
    "skewed_feats = df[num_cols2].apply(lambda x: (abs(skew(x))) > 2).sort_values(ascending=False)\n",
    "sks = pd.DataFrame({'Skew' :skewed_feats})\n",
    "ln = sks[sks.values].index\n",
    "#for col in ln:\n",
    "#    df[col] = \n",
    "df[ln] = np.log1p(df[ln])"
   ]
  },
  {
   "cell_type": "code",
   "execution_count": 33,
   "id": "d770367b",
   "metadata": {},
   "outputs": [
    {
     "data": {
      "text/html": [
       "<div>\n",
       "<style scoped>\n",
       "    .dataframe tbody tr th:only-of-type {\n",
       "        vertical-align: middle;\n",
       "    }\n",
       "\n",
       "    .dataframe tbody tr th {\n",
       "        vertical-align: top;\n",
       "    }\n",
       "\n",
       "    .dataframe thead th {\n",
       "        text-align: right;\n",
       "    }\n",
       "</style>\n",
       "<table border=\"1\" class=\"dataframe\">\n",
       "  <thead>\n",
       "    <tr style=\"text-align: right;\">\n",
       "      <th></th>\n",
       "      <th>LowQualFinSF</th>\n",
       "      <th>GarageYrBlt</th>\n",
       "      <th>OpenPorchSF</th>\n",
       "      <th>3SsnPorch</th>\n",
       "      <th>KitchenAbvGr</th>\n",
       "      <th>MasVnrArea</th>\n",
       "      <th>ScreenPorch</th>\n",
       "      <th>PoolArea</th>\n",
       "      <th>BsmtFinSF2</th>\n",
       "      <th>LotArea</th>\n",
       "      <th>MiscVal</th>\n",
       "      <th>EnclosedPorch</th>\n",
       "    </tr>\n",
       "  </thead>\n",
       "  <tbody>\n",
       "    <tr>\n",
       "      <th>0</th>\n",
       "      <td>0.0</td>\n",
       "      <td>7.602900</td>\n",
       "      <td>4.127134</td>\n",
       "      <td>0.0</td>\n",
       "      <td>0.693147</td>\n",
       "      <td>5.283204</td>\n",
       "      <td>0.0</td>\n",
       "      <td>0.0</td>\n",
       "      <td>0.0</td>\n",
       "      <td>9.042040</td>\n",
       "      <td>0.000000</td>\n",
       "      <td>0.000000</td>\n",
       "    </tr>\n",
       "    <tr>\n",
       "      <th>1</th>\n",
       "      <td>0.0</td>\n",
       "      <td>7.589336</td>\n",
       "      <td>0.000000</td>\n",
       "      <td>0.0</td>\n",
       "      <td>0.693147</td>\n",
       "      <td>0.000000</td>\n",
       "      <td>0.0</td>\n",
       "      <td>0.0</td>\n",
       "      <td>0.0</td>\n",
       "      <td>9.169623</td>\n",
       "      <td>0.000000</td>\n",
       "      <td>0.000000</td>\n",
       "    </tr>\n",
       "    <tr>\n",
       "      <th>2</th>\n",
       "      <td>0.0</td>\n",
       "      <td>7.601902</td>\n",
       "      <td>3.761200</td>\n",
       "      <td>0.0</td>\n",
       "      <td>0.693147</td>\n",
       "      <td>5.093750</td>\n",
       "      <td>0.0</td>\n",
       "      <td>0.0</td>\n",
       "      <td>0.0</td>\n",
       "      <td>9.328212</td>\n",
       "      <td>0.000000</td>\n",
       "      <td>0.000000</td>\n",
       "    </tr>\n",
       "    <tr>\n",
       "      <th>3</th>\n",
       "      <td>0.0</td>\n",
       "      <td>7.600402</td>\n",
       "      <td>3.583519</td>\n",
       "      <td>0.0</td>\n",
       "      <td>0.693147</td>\n",
       "      <td>0.000000</td>\n",
       "      <td>0.0</td>\n",
       "      <td>0.0</td>\n",
       "      <td>0.0</td>\n",
       "      <td>9.164401</td>\n",
       "      <td>0.000000</td>\n",
       "      <td>5.609472</td>\n",
       "    </tr>\n",
       "    <tr>\n",
       "      <th>4</th>\n",
       "      <td>0.0</td>\n",
       "      <td>7.601402</td>\n",
       "      <td>4.442651</td>\n",
       "      <td>0.0</td>\n",
       "      <td>0.693147</td>\n",
       "      <td>5.860786</td>\n",
       "      <td>0.0</td>\n",
       "      <td>0.0</td>\n",
       "      <td>0.0</td>\n",
       "      <td>9.565284</td>\n",
       "      <td>0.000000</td>\n",
       "      <td>0.000000</td>\n",
       "    </tr>\n",
       "    <tr>\n",
       "      <th>...</th>\n",
       "      <td>...</td>\n",
       "      <td>...</td>\n",
       "      <td>...</td>\n",
       "      <td>...</td>\n",
       "      <td>...</td>\n",
       "      <td>...</td>\n",
       "      <td>...</td>\n",
       "      <td>...</td>\n",
       "      <td>...</td>\n",
       "      <td>...</td>\n",
       "      <td>...</td>\n",
       "      <td>...</td>\n",
       "    </tr>\n",
       "    <tr>\n",
       "      <th>1454</th>\n",
       "      <td>0.0</td>\n",
       "      <td>0.000000</td>\n",
       "      <td>0.000000</td>\n",
       "      <td>0.0</td>\n",
       "      <td>0.693147</td>\n",
       "      <td>0.000000</td>\n",
       "      <td>0.0</td>\n",
       "      <td>0.0</td>\n",
       "      <td>0.0</td>\n",
       "      <td>7.568896</td>\n",
       "      <td>0.000000</td>\n",
       "      <td>0.000000</td>\n",
       "    </tr>\n",
       "    <tr>\n",
       "      <th>1455</th>\n",
       "      <td>0.0</td>\n",
       "      <td>7.586296</td>\n",
       "      <td>3.218876</td>\n",
       "      <td>0.0</td>\n",
       "      <td>0.693147</td>\n",
       "      <td>0.000000</td>\n",
       "      <td>0.0</td>\n",
       "      <td>0.0</td>\n",
       "      <td>0.0</td>\n",
       "      <td>7.546974</td>\n",
       "      <td>0.000000</td>\n",
       "      <td>0.000000</td>\n",
       "    </tr>\n",
       "    <tr>\n",
       "      <th>1456</th>\n",
       "      <td>0.0</td>\n",
       "      <td>7.581210</td>\n",
       "      <td>0.000000</td>\n",
       "      <td>0.0</td>\n",
       "      <td>0.693147</td>\n",
       "      <td>0.000000</td>\n",
       "      <td>0.0</td>\n",
       "      <td>0.0</td>\n",
       "      <td>0.0</td>\n",
       "      <td>9.903538</td>\n",
       "      <td>0.000000</td>\n",
       "      <td>0.000000</td>\n",
       "    </tr>\n",
       "    <tr>\n",
       "      <th>1457</th>\n",
       "      <td>0.0</td>\n",
       "      <td>0.000000</td>\n",
       "      <td>3.496508</td>\n",
       "      <td>0.0</td>\n",
       "      <td>0.693147</td>\n",
       "      <td>0.000000</td>\n",
       "      <td>0.0</td>\n",
       "      <td>0.0</td>\n",
       "      <td>0.0</td>\n",
       "      <td>9.253591</td>\n",
       "      <td>6.552508</td>\n",
       "      <td>0.000000</td>\n",
       "    </tr>\n",
       "    <tr>\n",
       "      <th>1458</th>\n",
       "      <td>0.0</td>\n",
       "      <td>7.597898</td>\n",
       "      <td>3.891820</td>\n",
       "      <td>0.0</td>\n",
       "      <td>0.693147</td>\n",
       "      <td>4.553877</td>\n",
       "      <td>0.0</td>\n",
       "      <td>0.0</td>\n",
       "      <td>0.0</td>\n",
       "      <td>9.172431</td>\n",
       "      <td>0.000000</td>\n",
       "      <td>0.000000</td>\n",
       "    </tr>\n",
       "  </tbody>\n",
       "</table>\n",
       "<p>2915 rows × 12 columns</p>\n",
       "</div>"
      ],
      "text/plain": [
       "      LowQualFinSF  GarageYrBlt  OpenPorchSF  3SsnPorch  KitchenAbvGr  \\\n",
       "0              0.0     7.602900     4.127134        0.0      0.693147   \n",
       "1              0.0     7.589336     0.000000        0.0      0.693147   \n",
       "2              0.0     7.601902     3.761200        0.0      0.693147   \n",
       "3              0.0     7.600402     3.583519        0.0      0.693147   \n",
       "4              0.0     7.601402     4.442651        0.0      0.693147   \n",
       "...            ...          ...          ...        ...           ...   \n",
       "1454           0.0     0.000000     0.000000        0.0      0.693147   \n",
       "1455           0.0     7.586296     3.218876        0.0      0.693147   \n",
       "1456           0.0     7.581210     0.000000        0.0      0.693147   \n",
       "1457           0.0     0.000000     3.496508        0.0      0.693147   \n",
       "1458           0.0     7.597898     3.891820        0.0      0.693147   \n",
       "\n",
       "      MasVnrArea  ScreenPorch  PoolArea  BsmtFinSF2   LotArea   MiscVal  \\\n",
       "0       5.283204          0.0       0.0         0.0  9.042040  0.000000   \n",
       "1       0.000000          0.0       0.0         0.0  9.169623  0.000000   \n",
       "2       5.093750          0.0       0.0         0.0  9.328212  0.000000   \n",
       "3       0.000000          0.0       0.0         0.0  9.164401  0.000000   \n",
       "4       5.860786          0.0       0.0         0.0  9.565284  0.000000   \n",
       "...          ...          ...       ...         ...       ...       ...   \n",
       "1454    0.000000          0.0       0.0         0.0  7.568896  0.000000   \n",
       "1455    0.000000          0.0       0.0         0.0  7.546974  0.000000   \n",
       "1456    0.000000          0.0       0.0         0.0  9.903538  0.000000   \n",
       "1457    0.000000          0.0       0.0         0.0  9.253591  6.552508   \n",
       "1458    4.553877          0.0       0.0         0.0  9.172431  0.000000   \n",
       "\n",
       "      EnclosedPorch  \n",
       "0          0.000000  \n",
       "1          0.000000  \n",
       "2          0.000000  \n",
       "3          5.609472  \n",
       "4          0.000000  \n",
       "...             ...  \n",
       "1454       0.000000  \n",
       "1455       0.000000  \n",
       "1456       0.000000  \n",
       "1457       0.000000  \n",
       "1458       0.000000  \n",
       "\n",
       "[2915 rows x 12 columns]"
      ]
     },
     "execution_count": 33,
     "metadata": {},
     "output_type": "execute_result"
    }
   ],
   "source": [
    "df[ln]"
   ]
  },
  {
   "cell_type": "code",
   "execution_count": null,
   "id": "784eb6fb",
   "metadata": {},
   "outputs": [],
   "source": []
  },
  {
   "cell_type": "markdown",
   "id": "c6c67925",
   "metadata": {},
   "source": [
    "### Encoding"
   ]
  },
  {
   "cell_type": "code",
   "execution_count": 34,
   "id": "132577e6",
   "metadata": {},
   "outputs": [
    {
     "name": "stderr",
     "output_type": "stream",
     "text": [
      "/home/mark/anaconda3/lib/python3.8/site-packages/pandas/core/frame.py:3636: SettingWithCopyWarning: \n",
      "A value is trying to be set on a copy of a slice from a DataFrame.\n",
      "Try using .loc[row_indexer,col_indexer] = value instead\n",
      "\n",
      "See the caveats in the documentation: https://pandas.pydata.org/pandas-docs/stable/user_guide/indexing.html#returning-a-view-versus-a-copy\n",
      "  self[k1] = value[k2]\n"
     ]
    }
   ],
   "source": [
    "df[nominal_vars] = df[nominal_vars].astype(str)\n",
    "df[ranking_vars] = df[ranking_vars].astype(str)"
   ]
  },
  {
   "cell_type": "code",
   "execution_count": 35,
   "id": "759f87c7",
   "metadata": {},
   "outputs": [
    {
     "name": "stderr",
     "output_type": "stream",
     "text": [
      "/tmp/ipykernel_15330/2751805664.py:4: SettingWithCopyWarning: \n",
      "A value is trying to be set on a copy of a slice from a DataFrame.\n",
      "Try using .loc[row_indexer,col_indexer] = value instead\n",
      "\n",
      "See the caveats in the documentation: https://pandas.pydata.org/pandas-docs/stable/user_guide/indexing.html#returning-a-view-versus-a-copy\n",
      "  df[c] = lbl.transform(list(df[c].values))\n"
     ]
    }
   ],
   "source": [
    "for c in ranking_vars:\n",
    "    lbl = LabelEncoder() \n",
    "    lbl.fit(list(df[c].values)) \n",
    "    df[c] = lbl.transform(list(df[c].values))"
   ]
  },
  {
   "cell_type": "code",
   "execution_count": 36,
   "id": "a0abe05c",
   "metadata": {},
   "outputs": [
    {
     "name": "stdout",
     "output_type": "stream",
     "text": [
      "(2915, 211)\n"
     ]
    }
   ],
   "source": [
    "df = pd.get_dummies(df)\n",
    "print(df.shape)"
   ]
  },
  {
   "cell_type": "markdown",
   "id": "6a704a79",
   "metadata": {},
   "source": [
    "## Baseline Model"
   ]
  },
  {
   "cell_type": "code",
   "execution_count": 38,
   "id": "2c60bb2a",
   "metadata": {},
   "outputs": [
    {
     "data": {
      "text/plain": [
       "array([12.24769912, 12.10901644, 12.31717117, ..., 12.49313327,\n",
       "       11.86446927, 11.90159023])"
      ]
     },
     "execution_count": 38,
     "metadata": {},
     "output_type": "execute_result"
    }
   ],
   "source": [
    "Y_train = pd.DataFrame(df[df['SalePrice'] > 0][['SalePrice']]).to_numpy().ravel()\n",
    "Y_train"
   ]
  },
  {
   "cell_type": "code",
   "execution_count": 43,
   "id": "9abf194d",
   "metadata": {},
   "outputs": [],
   "source": [
    "X_train = df[df['train'] ==1]"
   ]
  },
  {
   "cell_type": "code",
   "execution_count": 45,
   "id": "b74bf3aa",
   "metadata": {},
   "outputs": [
    {
     "name": "stderr",
     "output_type": "stream",
     "text": [
      "/home/mark/anaconda3/lib/python3.8/site-packages/pandas/core/frame.py:4901: SettingWithCopyWarning: \n",
      "A value is trying to be set on a copy of a slice from a DataFrame\n",
      "\n",
      "See the caveats in the documentation: https://pandas.pydata.org/pandas-docs/stable/user_guide/indexing.html#returning-a-view-versus-a-copy\n",
      "  return super().drop(\n"
     ]
    }
   ],
   "source": [
    "X_train.drop(['SalePrice', 'train', 'Id'], axis=1, inplace=True)"
   ]
  },
  {
   "cell_type": "code",
   "execution_count": 40,
   "id": "d9b884ab",
   "metadata": {},
   "outputs": [],
   "source": [
    "X_test = df[df['train'] == 0].drop(['SalePrice', 'train', 'Id'], axis=1, inplace=True)"
   ]
  },
  {
   "cell_type": "code",
   "execution_count": null,
   "id": "4c941531",
   "metadata": {},
   "outputs": [],
   "source": [
    "ss_scaler = StandardScaler()\n",
    "scaled_X = ss_scaler.fit_transform(X_train[num].drop(, axis = 1)) "
   ]
  },
  {
   "cell_type": "code",
   "execution_count": 41,
   "id": "561ed392",
   "metadata": {},
   "outputs": [
    {
     "ename": "TypeError",
     "evalue": "Expected sequence or array-like, got <class 'NoneType'>",
     "output_type": "error",
     "traceback": [
      "\u001b[0;31m---------------------------------------------------------------------------\u001b[0m",
      "\u001b[0;31mTypeError\u001b[0m                                 Traceback (most recent call last)",
      "\u001b[0;32m/tmp/ipykernel_15330/339685526.py\u001b[0m in \u001b[0;36m<module>\u001b[0;34m\u001b[0m\n\u001b[0;32m----> 1\u001b[0;31m \u001b[0mx_train\u001b[0m\u001b[0;34m,\u001b[0m \u001b[0mx_test\u001b[0m\u001b[0;34m,\u001b[0m \u001b[0my_train\u001b[0m\u001b[0;34m,\u001b[0m \u001b[0my_test\u001b[0m \u001b[0;34m=\u001b[0m \u001b[0mtrain_test_split\u001b[0m\u001b[0;34m(\u001b[0m\u001b[0mX_train\u001b[0m\u001b[0;34m,\u001b[0m \u001b[0mY_train\u001b[0m\u001b[0;34m,\u001b[0m \u001b[0mrandom_state\u001b[0m\u001b[0;34m=\u001b[0m\u001b[0;36m42\u001b[0m\u001b[0;34m,\u001b[0m \u001b[0mtrain_size\u001b[0m\u001b[0;34m=\u001b[0m\u001b[0;36m0.7\u001b[0m\u001b[0;34m)\u001b[0m\u001b[0;34m\u001b[0m\u001b[0;34m\u001b[0m\u001b[0m\n\u001b[0m",
      "\u001b[0;32m~/anaconda3/lib/python3.8/site-packages/sklearn/model_selection/_split.py\u001b[0m in \u001b[0;36mtrain_test_split\u001b[0;34m(test_size, train_size, random_state, shuffle, stratify, *arrays)\u001b[0m\n\u001b[1;32m   2172\u001b[0m     \u001b[0marrays\u001b[0m \u001b[0;34m=\u001b[0m \u001b[0mindexable\u001b[0m\u001b[0;34m(\u001b[0m\u001b[0;34m*\u001b[0m\u001b[0marrays\u001b[0m\u001b[0;34m)\u001b[0m\u001b[0;34m\u001b[0m\u001b[0;34m\u001b[0m\u001b[0m\n\u001b[1;32m   2173\u001b[0m \u001b[0;34m\u001b[0m\u001b[0m\n\u001b[0;32m-> 2174\u001b[0;31m     \u001b[0mn_samples\u001b[0m \u001b[0;34m=\u001b[0m \u001b[0m_num_samples\u001b[0m\u001b[0;34m(\u001b[0m\u001b[0marrays\u001b[0m\u001b[0;34m[\u001b[0m\u001b[0;36m0\u001b[0m\u001b[0;34m]\u001b[0m\u001b[0;34m)\u001b[0m\u001b[0;34m\u001b[0m\u001b[0;34m\u001b[0m\u001b[0m\n\u001b[0m\u001b[1;32m   2175\u001b[0m     n_train, n_test = _validate_shuffle_split(n_samples, test_size, train_size,\n\u001b[1;32m   2176\u001b[0m                                               default_test_size=0.25)\n",
      "\u001b[0;32m~/anaconda3/lib/python3.8/site-packages/sklearn/utils/validation.py\u001b[0m in \u001b[0;36m_num_samples\u001b[0;34m(x)\u001b[0m\n\u001b[1;32m    253\u001b[0m             \u001b[0mx\u001b[0m \u001b[0;34m=\u001b[0m \u001b[0mnp\u001b[0m\u001b[0;34m.\u001b[0m\u001b[0masarray\u001b[0m\u001b[0;34m(\u001b[0m\u001b[0mx\u001b[0m\u001b[0;34m)\u001b[0m\u001b[0;34m\u001b[0m\u001b[0;34m\u001b[0m\u001b[0m\n\u001b[1;32m    254\u001b[0m         \u001b[0;32melse\u001b[0m\u001b[0;34m:\u001b[0m\u001b[0;34m\u001b[0m\u001b[0;34m\u001b[0m\u001b[0m\n\u001b[0;32m--> 255\u001b[0;31m             \u001b[0;32mraise\u001b[0m \u001b[0mTypeError\u001b[0m\u001b[0;34m(\u001b[0m\u001b[0mmessage\u001b[0m\u001b[0;34m)\u001b[0m\u001b[0;34m\u001b[0m\u001b[0;34m\u001b[0m\u001b[0m\n\u001b[0m\u001b[1;32m    256\u001b[0m \u001b[0;34m\u001b[0m\u001b[0m\n\u001b[1;32m    257\u001b[0m     \u001b[0;32mif\u001b[0m \u001b[0mhasattr\u001b[0m\u001b[0;34m(\u001b[0m\u001b[0mx\u001b[0m\u001b[0;34m,\u001b[0m \u001b[0;34m'shape'\u001b[0m\u001b[0;34m)\u001b[0m \u001b[0;32mand\u001b[0m \u001b[0mx\u001b[0m\u001b[0;34m.\u001b[0m\u001b[0mshape\u001b[0m \u001b[0;32mis\u001b[0m \u001b[0;32mnot\u001b[0m \u001b[0;32mNone\u001b[0m\u001b[0;34m:\u001b[0m\u001b[0;34m\u001b[0m\u001b[0;34m\u001b[0m\u001b[0m\n",
      "\u001b[0;31mTypeError\u001b[0m: Expected sequence or array-like, got <class 'NoneType'>"
     ]
    }
   ],
   "source": [
    "x_train, x_test, y_train, y_test = train_test_split(X_train, Y_train, random_state=42, train_size=0.7)"
   ]
  },
  {
   "cell_type": "code",
   "execution_count": null,
   "id": "6bc6a5a0",
   "metadata": {},
   "outputs": [],
   "source": [
    "clf = RandomForestRegressor(\n",
    "    n_estimators=100, n_jobs=-1, random_state=42)\n",
    "\n",
    "#clf.fit(x_train, y_train)\n",
    "\n",
    "# # evaluate the model\n",
    "cv = RepeatedStratifiedKFold(n_splits=10, n_repeats=3, random_state=1)\n",
    "n_scores = -cross_val_score(clf, X_train, Y_train, scoring='neg_mean_squared_error', cv=5, n_jobs=-1)\n",
    "# # report performance\n",
    "print('MSE: %.3f' % (np.mean(n_scores)))\n",
    "\n",
    "#print(\"train mse:\", mean_squared_error(clf.predict(x_train), y_train))\n",
    "#print(\"test mse:\", mean_squared_error(clf.predict(x_test), y_test))"
   ]
  },
  {
   "cell_type": "code",
   "execution_count": null,
   "id": "a8131971",
   "metadata": {},
   "outputs": [],
   "source": [
    "clf = GradientBoostingRegressor(n_estimators=300, max_depth=4, learning_rate=0.01)\n",
    "\n",
    "clf.fit(x_train, y_train)\n",
    "\n",
    "print(\"train mse:\", mean_squared_error(clf.predict(x_train), y_train))\n",
    "print(\"test mse:\", mean_squared_error(clf.predict(x_test), y_test))"
   ]
  },
  {
   "cell_type": "code",
   "execution_count": null,
   "id": "d8d3becf",
   "metadata": {},
   "outputs": [],
   "source": [
    "clf = HuberRegressor()\n",
    "\n",
    "clf.fit(x_train, y_train)\n",
    "\n",
    "print(\"train mse:\", mean_squared_error(clf.predict(x_train), y_train))\n",
    "print(\"test mse:\", mean_squared_error(clf.predict(x_test), y_test))"
   ]
  },
  {
   "cell_type": "code",
   "execution_count": null,
   "id": "68cf3fbd",
   "metadata": {},
   "outputs": [],
   "source": [
    "clf = StackingRegressor(estimators=[('knn', KNeighborsRegressor(10)), \n",
    "                                    ('lr', LinearRegression())],\n",
    "                        final_estimator=GradientBoostingRegressor(learning_rate=0.01))\n",
    "\n",
    "clf.fit(x_train, y_train.ravel())\n",
    "\n",
    "print(\"train mse:\", mean_squared_error(clf.predict(x_train), y_train))\n",
    "print(\"test mse:\", mean_squared_error(clf.predict(x_test), y_test))"
   ]
  },
  {
   "cell_type": "code",
   "execution_count": null,
   "id": "0ba866e9",
   "metadata": {},
   "outputs": [],
   "source": [
    "estimators = [('tree', DecisionTreeRegressor(random_state=42)), ('knn', KNeighborsRegressor())]\n",
    "stack_knn_tree = StackingRegressor(estimators=estimators)\n",
    "stack_knn_tree.fit(x_train, y_train)\n",
    "er_test_stack_knn_tree = mean_squared_error(stack_knn_tree.predict(x_test), y_test)\n",
    "print(\"train mse:\", mean_squared_error(stack_knn_tree.predict(x_train), y_train))\n",
    "print(\"test mse:\", er_test_stack_knn_tree)"
   ]
  },
  {
   "cell_type": "code",
   "execution_count": null,
   "id": "ba1d64ae",
   "metadata": {},
   "outputs": [],
   "source": [
    "X_train"
   ]
  },
  {
   "cell_type": "markdown",
   "id": "b765373e",
   "metadata": {},
   "source": [
    "## Submit"
   ]
  },
  {
   "cell_type": "code",
   "execution_count": null,
   "id": "0b27513d",
   "metadata": {},
   "outputs": [],
   "source": [
    "sub = pd.DataFrame()\n",
    "sub['Id'] = df_test.index"
   ]
  },
  {
   "cell_type": "code",
   "execution_count": null,
   "id": "a303cd55",
   "metadata": {},
   "outputs": [],
   "source": [
    "sub['SalePrice'] = stack_knn_tree.predict(X_test)\n"
   ]
  },
  {
   "cell_type": "code",
   "execution_count": null,
   "id": "8c924b07",
   "metadata": {},
   "outputs": [],
   "source": [
    "sub.to_csv('submission.csv',index=False)"
   ]
  },
  {
   "cell_type": "code",
   "execution_count": null,
   "id": "68f95b39",
   "metadata": {},
   "outputs": [],
   "source": [
    "sub"
   ]
  },
  {
   "cell_type": "markdown",
   "id": "bc4c70ed",
   "metadata": {},
   "source": [
    "### Not mine"
   ]
  },
  {
   "cell_type": "code",
   "execution_count": null,
   "id": "01c4f090",
   "metadata": {},
   "outputs": [],
   "source": [
    "from sklearn.preprocessing import RobustScaler, MinMaxScaler, StandardScaler, PolynomialFeatures, OneHotEncoder\n",
    "from sklearn.model_selection import KFold, GridSearchCV, train_test_split, cross_val_score\n",
    "from sklearn.feature_selection import SelectKBest, f_classif, chi2\n",
    "from sklearn.metrics import mean_squared_error as mse\n",
    "from sklearn.pipeline import Pipeline\n",
    "from sklearn.linear_model import LinearRegression, Lasso, Ridge, ElasticNet\n",
    "from sklearn.kernel_ridge import KernelRidge\n",
    "from sklearn.svm import SVR\n",
    "from sklearn.ensemble import RandomForestRegressor as rfr, GradientBoostingRegressor as gbr\n",
    "from xgboost import XGBRegressor\n",
    "from lightgbm import LGBMRegressor\n",
    "from mlxtend.regressor import StackingCVRegressor\n",
    "\n",
    "import optuna\n",
    "from functools import partial"
   ]
  },
  {
   "cell_type": "code",
   "execution_count": null,
   "id": "37c071ff",
   "metadata": {},
   "outputs": [],
   "source": [
    "n_folds = 5\n",
    "\n",
    "def rmsle(model, x, y):\n",
    "    return np.sqrt(mean_squared_error(y, model.predict(x)))\n",
    "\n",
    "def rmsle_cv(model, x, y):\n",
    "    #kf = KFold(n_splits=5, shuffle=True, random_state=42)\n",
    "    kf = 5\n",
    "    rmse =np.sqrt(-cross_val_score(model, x.values, y, scoring='neg_mean_squared_error', cv=kf))\n",
    "    return rmse"
   ]
  },
  {
   "cell_type": "code",
   "execution_count": null,
   "id": "4e513d17",
   "metadata": {},
   "outputs": [],
   "source": [
    "model_lasso = Pipeline([\n",
    "    ('scaler', RobustScaler()),\n",
    "    ('model', Lasso(alpha=0.0005))\n",
    "])\n",
    "\n",
    "model_enet = Pipeline([\n",
    "    ('scaler', RobustScaler()),\n",
    "    ('model', ElasticNet(alpha=0.0089, l1_ratio=0.009000000000000001, random_state=3))\n",
    "])\n",
    "\n",
    "model_krr = Pipeline([\n",
    "    ('scaler', RobustScaler()),\n",
    "    ('model', KernelRidge(alpha=0.6,\n",
    "                        kernel='polynomial',\n",
    "                        degree=2,\n",
    "                        coef0=2.5))\n",
    "])\n"
   ]
  },
  {
   "cell_type": "code",
   "execution_count": null,
   "id": "653e5404",
   "metadata": {},
   "outputs": [],
   "source": [
    "model_xgbr = XGBRegressor(colsample_bytree=0.4, learning_rate=0.00898718134841855, max_depth=8, \n",
    "                             n_estimators=2200, reg_alpha=0.036142628805195254, reg_lambda=0.03188665185506858,\n",
    "                             subsample=0.6, random_state =42)"
   ]
  },
  {
   "cell_type": "code",
   "execution_count": null,
   "id": "b3779366",
   "metadata": {},
   "outputs": [],
   "source": [
    "model_gbr = gbr(n_estimators=3000, learning_rate=0.05,\n",
    "                                   max_depth=4, max_features='sqrt',\n",
    "                                   min_samples_leaf=15, min_samples_split=10, \n",
    "                                   loss='huber', random_state=5)\n",
    "\n"
   ]
  },
  {
   "cell_type": "code",
   "execution_count": null,
   "id": "92a19f34",
   "metadata": {},
   "outputs": [],
   "source": [
    "model_lgbm = LGBMRegressor(objective='regression',num_leaves=5,\n",
    "                              learning_rate=0.05, n_estimators=720,\n",
    "                              max_bin = 55, bagging_fraction = 0.8,\n",
    "                              bagging_freq = 5, feature_fraction = 0.2319,\n",
    "                              feature_fraction_seed=9, bagging_seed=9,\n",
    "                              min_data_in_leaf =6, min_sum_hessian_in_leaf = 11)"
   ]
  },
  {
   "cell_type": "code",
   "execution_count": null,
   "id": "1cca7260",
   "metadata": {},
   "outputs": [],
   "source": [
    "stack_gen = StackingCVRegressor(regressors=(model_lgbm, model_lasso, model_enet, model_krr, model_gbr),\n",
    "                               meta_regressor=model_xgbr,\n",
    "                               use_features_in_secondary=True)\n",
    "\n"
   ]
  },
  {
   "cell_type": "code",
   "execution_count": null,
   "id": "08b1d495",
   "metadata": {},
   "outputs": [],
   "source": [
    "models = [\n",
    "    model_lasso, model_enet, model_krr, model_gbr, model_xgbr, model_lgbm\n",
    "]\n",
    "cross_score = {\n",
    "    'Lasso': 0,\n",
    "    'ElasticNet': 0,\n",
    "    'Kernel Ridge': 0,\n",
    "    'GradientBoosting': 0,\n",
    "    'XGBoost': 0,\n",
    "    'LightGBM': 0,\n",
    "}"
   ]
  },
  {
   "cell_type": "code",
   "execution_count": null,
   "id": "b0968644",
   "metadata": {},
   "outputs": [],
   "source": [
    "for idx, model in enumerate(models):\n",
    "    cross_score[list(cross_score.keys())[idx]] = rmsle_cv(model, x_train, y_train).mean()"
   ]
  },
  {
   "cell_type": "code",
   "execution_count": null,
   "id": "4b9530f8",
   "metadata": {},
   "outputs": [],
   "source": [
    "for model in models:\n",
    "    model = model.fit(x_train, y_train)"
   ]
  },
  {
   "cell_type": "code",
   "execution_count": null,
   "id": "fd64e42f",
   "metadata": {},
   "outputs": [],
   "source": [
    "cross_score"
   ]
  },
  {
   "cell_type": "code",
   "execution_count": null,
   "id": "d23d8a66",
   "metadata": {},
   "outputs": [],
   "source": [
    "stack_gen = stack_gen.fit(x_train, y_train)"
   ]
  },
  {
   "cell_type": "code",
   "execution_count": null,
   "id": "6134c26f",
   "metadata": {},
   "outputs": [],
   "source": [
    "def blend(X):\n",
    "    return ((0.15 * model_lasso.predict(X)) + \\\n",
    "            (0.15 * model_enet.predict(X)) + \\\n",
    "            (0.05 * model_krr.predict(X)) + \\\n",
    "            (0.15 * model_xgbr.predict(X)) + \\\n",
    "            (0.15 * model_lgbm.predict(X)) + \\\n",
    "            (0.35 * stack_gen.predict(np.array(X))))"
   ]
  },
  {
   "cell_type": "code",
   "execution_count": null,
   "id": "d9c6f13c",
   "metadata": {},
   "outputs": [],
   "source": [
    "np.sqrt(mse(y_train, blend(x_train)))"
   ]
  },
  {
   "cell_type": "code",
   "execution_count": null,
   "id": "4877b77d",
   "metadata": {},
   "outputs": [],
   "source": [
    "np.sqrt(mse(y_train, stack_gen.predict(x_train)))"
   ]
  },
  {
   "cell_type": "code",
   "execution_count": null,
   "id": "d9d4219e",
   "metadata": {},
   "outputs": [],
   "source": [
    "n_folds = 5\n",
    "\n",
    "def rmsle(model, x, y):\n",
    "    return np.sqrt(mean_squared_error(y, model.predict(x)))\n",
    "\n",
    "def rmsle_cv(model, x, y):\n",
    "    #kf = KFold(n_splits=5, shuffle=True, random_state=42)\n",
    "    kf = 5\n",
    "    rmse =np.sqrt(-cross_val_score(model, x.values, y, scoring='neg_mean_squared_error', cv=kf))\n",
    "    return rmse.mean()"
   ]
  },
  {
   "cell_type": "code",
   "execution_count": null,
   "id": "7a837b67",
   "metadata": {},
   "outputs": [],
   "source": [
    "result = rmsle_cv(RandomForestRegressor(\n",
    "    n_estimators=100, n_jobs=-1, random_state=42), X_train, y_train.ravel())"
   ]
  },
  {
   "cell_type": "code",
   "execution_count": null,
   "id": "c4cdeb0c",
   "metadata": {},
   "outputs": [],
   "source": [
    "result**2"
   ]
  }
 ],
 "metadata": {
  "kernelspec": {
   "display_name": "Python 3 (ipykernel)",
   "language": "python",
   "name": "python3"
  },
  "language_info": {
   "codemirror_mode": {
    "name": "ipython",
    "version": 3
   },
   "file_extension": ".py",
   "mimetype": "text/x-python",
   "name": "python",
   "nbconvert_exporter": "python",
   "pygments_lexer": "ipython3",
   "version": "3.8.8"
  },
  "toc": {
   "base_numbering": 1,
   "nav_menu": {},
   "number_sections": true,
   "sideBar": true,
   "skip_h1_title": false,
   "title_cell": "Table of Contents",
   "title_sidebar": "Contents",
   "toc_cell": false,
   "toc_position": {
    "height": "calc(100% - 180px)",
    "left": "10px",
    "top": "150px",
    "width": "369.6px"
   },
   "toc_section_display": true,
   "toc_window_display": true
  }
 },
 "nbformat": 4,
 "nbformat_minor": 5
}
